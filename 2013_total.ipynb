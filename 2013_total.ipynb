{
  "nbformat": 4,
  "nbformat_minor": 0,
  "metadata": {
    "colab": {
      "name": "2013_total.ipynb",
      "provenance": []
    },
    "kernelspec": {
      "name": "python3",
      "display_name": "Python 3"
    },
    "language_info": {
      "name": "python"
    }
  },
  "cells": [
    {
      "cell_type": "markdown",
      "metadata": {
        "id": "VYMhfW7JsgzU"
      },
      "source": [
        "### **`Total forest cover of india-2013`**"
      ]
    },
    {
      "cell_type": "code",
      "metadata": {
        "id": "pUPsIX1_nasW"
      },
      "source": [
        "import pandas as pd"
      ],
      "execution_count": 1,
      "outputs": []
    },
    {
      "cell_type": "code",
      "metadata": {
        "id": "1lknT9ybncoB"
      },
      "source": [
        "import numpy as np"
      ],
      "execution_count": 2,
      "outputs": []
    },
    {
      "cell_type": "markdown",
      "metadata": {
        "id": "YadHdm_YoHUQ"
      },
      "source": [
        "Let's import the total forest cover of india-2013"
      ]
    },
    {
      "cell_type": "code",
      "metadata": {
        "id": "nvdFiFCfneVP"
      },
      "source": [
        "url='https://raw.githubusercontent.com/sg-008/Data-of-Indian-Forests/main/Total%20forest%20area%202013.csv'\n",
        "data_4=pd.read_csv(url)"
      ],
      "execution_count": 19,
      "outputs": []
    },
    {
      "cell_type": "markdown",
      "metadata": {
        "id": "eLqeqiAlozDC"
      },
      "source": [
        "First look of data"
      ]
    },
    {
      "cell_type": "code",
      "metadata": {
        "colab": {
          "base_uri": "https://localhost:8080/",
          "height": 235
        },
        "id": "s0GgwiRxoxG7",
        "outputId": "8b6f1d2f-6d6d-430b-b66e-f45e0c127884"
      },
      "source": [
        "data_4"
      ],
      "execution_count": 20,
      "outputs": [
        {
          "output_type": "execute_result",
          "data": {
            "text/html": [
              "<div>\n",
              "<style scoped>\n",
              "    .dataframe tbody tr th:only-of-type {\n",
              "        vertical-align: middle;\n",
              "    }\n",
              "\n",
              "    .dataframe tbody tr th {\n",
              "        vertical-align: top;\n",
              "    }\n",
              "\n",
              "    .dataframe thead th {\n",
              "        text-align: right;\n",
              "    }\n",
              "</style>\n",
              "<table border=\"1\" class=\"dataframe\">\n",
              "  <thead>\n",
              "    <tr style=\"text-align: right;\">\n",
              "      <th></th>\n",
              "      <th>Forest Cover</th>\n",
              "      <th>Area (sq. Km)</th>\n",
              "      <th>Percent Of Geographical Area</th>\n",
              "    </tr>\n",
              "  </thead>\n",
              "  <tbody>\n",
              "    <tr>\n",
              "      <th>0</th>\n",
              "      <td>a) Very Dense Forest</td>\n",
              "      <td>83471</td>\n",
              "      <td>2.54</td>\n",
              "    </tr>\n",
              "    <tr>\n",
              "      <th>1</th>\n",
              "      <td>b) Moderately Dense Forest</td>\n",
              "      <td>320736</td>\n",
              "      <td>9.76</td>\n",
              "    </tr>\n",
              "    <tr>\n",
              "      <th>2</th>\n",
              "      <td>c) Open Forest</td>\n",
              "      <td>287820</td>\n",
              "      <td>8.75</td>\n",
              "    </tr>\n",
              "    <tr>\n",
              "      <th>3</th>\n",
              "      <td>Total Forest Cover*</td>\n",
              "      <td>692027</td>\n",
              "      <td>21.05</td>\n",
              "    </tr>\n",
              "    <tr>\n",
              "      <th>4</th>\n",
              "      <td>Scrub</td>\n",
              "      <td>42176</td>\n",
              "      <td>1.28</td>\n",
              "    </tr>\n",
              "    <tr>\n",
              "      <th>5</th>\n",
              "      <td>Non-forest</td>\n",
              "      <td>2553060</td>\n",
              "      <td>77.67</td>\n",
              "    </tr>\n",
              "  </tbody>\n",
              "</table>\n",
              "</div>"
            ],
            "text/plain": [
              "                 Forest Cover  Area (sq. Km)  Percent Of Geographical Area\n",
              "0        a) Very Dense Forest          83471                          2.54\n",
              "1  b) Moderately Dense Forest         320736                          9.76\n",
              "2              c) Open Forest         287820                          8.75\n",
              "3         Total Forest Cover*         692027                         21.05\n",
              "4                       Scrub          42176                          1.28\n",
              "5                  Non-forest        2553060                         77.67"
            ]
          },
          "metadata": {},
          "execution_count": 20
        }
      ]
    },
    {
      "cell_type": "markdown",
      "metadata": {
        "id": "GkokjkxgpAO4"
      },
      "source": [
        "As you can see, values have to be changed to int or float if necessary and row values of 'Forest Cover' have to be changed"
      ]
    },
    {
      "cell_type": "markdown",
      "metadata": {
        "id": "qCQJ4W0eqL8R"
      },
      "source": [
        "Let's rename the columns"
      ]
    },
    {
      "cell_type": "code",
      "metadata": {
        "id": "xTiXXBtZqJZq"
      },
      "source": [
        "data_4.columns=['Classification','Area(sq km)','% of Geographical Area']"
      ],
      "execution_count": 21,
      "outputs": []
    },
    {
      "cell_type": "code",
      "metadata": {
        "colab": {
          "base_uri": "https://localhost:8080/",
          "height": 235
        },
        "id": "ahF4uL3qqmGl",
        "outputId": "b341b5fd-2f66-4eac-8b36-abd35919c1fe"
      },
      "source": [
        "data_4"
      ],
      "execution_count": 22,
      "outputs": [
        {
          "output_type": "execute_result",
          "data": {
            "text/html": [
              "<div>\n",
              "<style scoped>\n",
              "    .dataframe tbody tr th:only-of-type {\n",
              "        vertical-align: middle;\n",
              "    }\n",
              "\n",
              "    .dataframe tbody tr th {\n",
              "        vertical-align: top;\n",
              "    }\n",
              "\n",
              "    .dataframe thead th {\n",
              "        text-align: right;\n",
              "    }\n",
              "</style>\n",
              "<table border=\"1\" class=\"dataframe\">\n",
              "  <thead>\n",
              "    <tr style=\"text-align: right;\">\n",
              "      <th></th>\n",
              "      <th>Classification</th>\n",
              "      <th>Area(sq km)</th>\n",
              "      <th>% of Geographical Area</th>\n",
              "    </tr>\n",
              "  </thead>\n",
              "  <tbody>\n",
              "    <tr>\n",
              "      <th>0</th>\n",
              "      <td>a) Very Dense Forest</td>\n",
              "      <td>83471</td>\n",
              "      <td>2.54</td>\n",
              "    </tr>\n",
              "    <tr>\n",
              "      <th>1</th>\n",
              "      <td>b) Moderately Dense Forest</td>\n",
              "      <td>320736</td>\n",
              "      <td>9.76</td>\n",
              "    </tr>\n",
              "    <tr>\n",
              "      <th>2</th>\n",
              "      <td>c) Open Forest</td>\n",
              "      <td>287820</td>\n",
              "      <td>8.75</td>\n",
              "    </tr>\n",
              "    <tr>\n",
              "      <th>3</th>\n",
              "      <td>Total Forest Cover*</td>\n",
              "      <td>692027</td>\n",
              "      <td>21.05</td>\n",
              "    </tr>\n",
              "    <tr>\n",
              "      <th>4</th>\n",
              "      <td>Scrub</td>\n",
              "      <td>42176</td>\n",
              "      <td>1.28</td>\n",
              "    </tr>\n",
              "    <tr>\n",
              "      <th>5</th>\n",
              "      <td>Non-forest</td>\n",
              "      <td>2553060</td>\n",
              "      <td>77.67</td>\n",
              "    </tr>\n",
              "  </tbody>\n",
              "</table>\n",
              "</div>"
            ],
            "text/plain": [
              "               Classification  Area(sq km)  % of Geographical Area\n",
              "0        a) Very Dense Forest        83471                    2.54\n",
              "1  b) Moderately Dense Forest       320736                    9.76\n",
              "2              c) Open Forest       287820                    8.75\n",
              "3         Total Forest Cover*       692027                   21.05\n",
              "4                       Scrub        42176                    1.28\n",
              "5                  Non-forest      2553060                   77.67"
            ]
          },
          "metadata": {},
          "execution_count": 22
        }
      ]
    },
    {
      "cell_type": "markdown",
      "metadata": {
        "id": "E36NPLVzquVD"
      },
      "source": [
        "Let's check the data type of each column"
      ]
    },
    {
      "cell_type": "code",
      "metadata": {
        "colab": {
          "base_uri": "https://localhost:8080/"
        },
        "id": "j-IkCu4RqoIG",
        "outputId": "8ec10fa7-3832-4dd2-9f81-04b6b3280462"
      },
      "source": [
        "data_4.dtypes"
      ],
      "execution_count": 24,
      "outputs": [
        {
          "output_type": "execute_result",
          "data": {
            "text/plain": [
              "Classification             object\n",
              "Area(sq km)                 int64\n",
              "% of Geographical Area    float64\n",
              "dtype: object"
            ]
          },
          "metadata": {},
          "execution_count": 24
        }
      ]
    },
    {
      "cell_type": "markdown",
      "metadata": {
        "id": "gEV7JBm6vyCT"
      },
      "source": [
        "Let's change the values of row"
      ]
    },
    {
      "cell_type": "code",
      "metadata": {
        "id": "1UutrqMNq4oA"
      },
      "source": [
        "data_4.at[0,'Classification']='Very Dense Forest'"
      ],
      "execution_count": 25,
      "outputs": []
    },
    {
      "cell_type": "code",
      "metadata": {
        "id": "D9LAOPaFwJuf"
      },
      "source": [
        "data_4.at[1,'Classification']='Moderately Dense Forest'\n",
        "data_4.at[2,'Classification']='Open Forest'\n",
        "data_4.at[3,'Classification']='Total Forest Cover'"
      ],
      "execution_count": 26,
      "outputs": []
    },
    {
      "cell_type": "code",
      "metadata": {
        "colab": {
          "base_uri": "https://localhost:8080/",
          "height": 204
        },
        "id": "D15w_hbqrXqA",
        "outputId": "87878604-4c88-44e4-9d6a-151b489024b9"
      },
      "source": [
        "data_4.head()"
      ],
      "execution_count": 27,
      "outputs": [
        {
          "output_type": "execute_result",
          "data": {
            "text/html": [
              "<div>\n",
              "<style scoped>\n",
              "    .dataframe tbody tr th:only-of-type {\n",
              "        vertical-align: middle;\n",
              "    }\n",
              "\n",
              "    .dataframe tbody tr th {\n",
              "        vertical-align: top;\n",
              "    }\n",
              "\n",
              "    .dataframe thead th {\n",
              "        text-align: right;\n",
              "    }\n",
              "</style>\n",
              "<table border=\"1\" class=\"dataframe\">\n",
              "  <thead>\n",
              "    <tr style=\"text-align: right;\">\n",
              "      <th></th>\n",
              "      <th>Classification</th>\n",
              "      <th>Area(sq km)</th>\n",
              "      <th>% of Geographical Area</th>\n",
              "    </tr>\n",
              "  </thead>\n",
              "  <tbody>\n",
              "    <tr>\n",
              "      <th>0</th>\n",
              "      <td>Very Dense Forest</td>\n",
              "      <td>83471</td>\n",
              "      <td>2.54</td>\n",
              "    </tr>\n",
              "    <tr>\n",
              "      <th>1</th>\n",
              "      <td>Moderately Dense Forest</td>\n",
              "      <td>320736</td>\n",
              "      <td>9.76</td>\n",
              "    </tr>\n",
              "    <tr>\n",
              "      <th>2</th>\n",
              "      <td>Open Forest</td>\n",
              "      <td>287820</td>\n",
              "      <td>8.75</td>\n",
              "    </tr>\n",
              "    <tr>\n",
              "      <th>3</th>\n",
              "      <td>Total Forest Cover</td>\n",
              "      <td>692027</td>\n",
              "      <td>21.05</td>\n",
              "    </tr>\n",
              "    <tr>\n",
              "      <th>4</th>\n",
              "      <td>Scrub</td>\n",
              "      <td>42176</td>\n",
              "      <td>1.28</td>\n",
              "    </tr>\n",
              "  </tbody>\n",
              "</table>\n",
              "</div>"
            ],
            "text/plain": [
              "            Classification  Area(sq km)  % of Geographical Area\n",
              "0        Very Dense Forest        83471                    2.54\n",
              "1  Moderately Dense Forest       320736                    9.76\n",
              "2              Open Forest       287820                    8.75\n",
              "3       Total Forest Cover       692027                   21.05\n",
              "4                    Scrub        42176                    1.28"
            ]
          },
          "metadata": {},
          "execution_count": 27
        }
      ]
    },
    {
      "cell_type": "markdown",
      "metadata": {
        "id": "XMRINi5Prg08"
      },
      "source": [
        "Converting the Dataframe back to the csv file"
      ]
    },
    {
      "cell_type": "code",
      "metadata": {
        "id": "NXV6u1J4rdl4"
      },
      "source": [
        "data_4.to_csv('total forest cover of india-2013')"
      ],
      "execution_count": 28,
      "outputs": []
    },
    {
      "cell_type": "markdown",
      "metadata": {
        "id": "al6tEnp2r8Aw"
      },
      "source": [
        " total forest cover of india-2019 data after performing data clean operation"
      ]
    },
    {
      "cell_type": "code",
      "metadata": {
        "colab": {
          "base_uri": "https://localhost:8080/",
          "height": 183
        },
        "id": "OZ_izwkQr1Y8",
        "outputId": "af5ad535-0694-412d-cd6a-884d2f30c549"
      },
      "source": [
        "data_4.style.set_caption(\"**Total forest cover of india-2013**\")"
      ],
      "execution_count": 29,
      "outputs": [
        {
          "output_type": "execute_result",
          "data": {
            "text/html": [
              "<style  type=\"text/css\" >\n",
              "</style><table id=\"T_0ccde19a_1088_11ec_abb3_0242ac1c0002\" ><caption>**Total forest cover of india-2013**</caption><thead>    <tr>        <th class=\"blank level0\" ></th>        <th class=\"col_heading level0 col0\" >Classification</th>        <th class=\"col_heading level0 col1\" >Area(sq km)</th>        <th class=\"col_heading level0 col2\" >% of Geographical Area</th>    </tr></thead><tbody>\n",
              "                <tr>\n",
              "                        <th id=\"T_0ccde19a_1088_11ec_abb3_0242ac1c0002level0_row0\" class=\"row_heading level0 row0\" >0</th>\n",
              "                        <td id=\"T_0ccde19a_1088_11ec_abb3_0242ac1c0002row0_col0\" class=\"data row0 col0\" >Very Dense Forest</td>\n",
              "                        <td id=\"T_0ccde19a_1088_11ec_abb3_0242ac1c0002row0_col1\" class=\"data row0 col1\" >83471</td>\n",
              "                        <td id=\"T_0ccde19a_1088_11ec_abb3_0242ac1c0002row0_col2\" class=\"data row0 col2\" >2.540000</td>\n",
              "            </tr>\n",
              "            <tr>\n",
              "                        <th id=\"T_0ccde19a_1088_11ec_abb3_0242ac1c0002level0_row1\" class=\"row_heading level0 row1\" >1</th>\n",
              "                        <td id=\"T_0ccde19a_1088_11ec_abb3_0242ac1c0002row1_col0\" class=\"data row1 col0\" >Moderately Dense Forest</td>\n",
              "                        <td id=\"T_0ccde19a_1088_11ec_abb3_0242ac1c0002row1_col1\" class=\"data row1 col1\" >320736</td>\n",
              "                        <td id=\"T_0ccde19a_1088_11ec_abb3_0242ac1c0002row1_col2\" class=\"data row1 col2\" >9.760000</td>\n",
              "            </tr>\n",
              "            <tr>\n",
              "                        <th id=\"T_0ccde19a_1088_11ec_abb3_0242ac1c0002level0_row2\" class=\"row_heading level0 row2\" >2</th>\n",
              "                        <td id=\"T_0ccde19a_1088_11ec_abb3_0242ac1c0002row2_col0\" class=\"data row2 col0\" >Open Forest</td>\n",
              "                        <td id=\"T_0ccde19a_1088_11ec_abb3_0242ac1c0002row2_col1\" class=\"data row2 col1\" >287820</td>\n",
              "                        <td id=\"T_0ccde19a_1088_11ec_abb3_0242ac1c0002row2_col2\" class=\"data row2 col2\" >8.750000</td>\n",
              "            </tr>\n",
              "            <tr>\n",
              "                        <th id=\"T_0ccde19a_1088_11ec_abb3_0242ac1c0002level0_row3\" class=\"row_heading level0 row3\" >3</th>\n",
              "                        <td id=\"T_0ccde19a_1088_11ec_abb3_0242ac1c0002row3_col0\" class=\"data row3 col0\" >Total Forest Cover</td>\n",
              "                        <td id=\"T_0ccde19a_1088_11ec_abb3_0242ac1c0002row3_col1\" class=\"data row3 col1\" >692027</td>\n",
              "                        <td id=\"T_0ccde19a_1088_11ec_abb3_0242ac1c0002row3_col2\" class=\"data row3 col2\" >21.050000</td>\n",
              "            </tr>\n",
              "            <tr>\n",
              "                        <th id=\"T_0ccde19a_1088_11ec_abb3_0242ac1c0002level0_row4\" class=\"row_heading level0 row4\" >4</th>\n",
              "                        <td id=\"T_0ccde19a_1088_11ec_abb3_0242ac1c0002row4_col0\" class=\"data row4 col0\" >Scrub</td>\n",
              "                        <td id=\"T_0ccde19a_1088_11ec_abb3_0242ac1c0002row4_col1\" class=\"data row4 col1\" >42176</td>\n",
              "                        <td id=\"T_0ccde19a_1088_11ec_abb3_0242ac1c0002row4_col2\" class=\"data row4 col2\" >1.280000</td>\n",
              "            </tr>\n",
              "            <tr>\n",
              "                        <th id=\"T_0ccde19a_1088_11ec_abb3_0242ac1c0002level0_row5\" class=\"row_heading level0 row5\" >5</th>\n",
              "                        <td id=\"T_0ccde19a_1088_11ec_abb3_0242ac1c0002row5_col0\" class=\"data row5 col0\" >Non-forest</td>\n",
              "                        <td id=\"T_0ccde19a_1088_11ec_abb3_0242ac1c0002row5_col1\" class=\"data row5 col1\" >2553060</td>\n",
              "                        <td id=\"T_0ccde19a_1088_11ec_abb3_0242ac1c0002row5_col2\" class=\"data row5 col2\" >77.670000</td>\n",
              "            </tr>\n",
              "    </tbody></table>"
            ],
            "text/plain": [
              "<pandas.io.formats.style.Styler at 0x7f8a30780890>"
            ]
          },
          "metadata": {},
          "execution_count": 29
        }
      ]
    },
    {
      "cell_type": "code",
      "metadata": {
        "id": "J69s5iCJsOz6"
      },
      "source": [
        ""
      ],
      "execution_count": null,
      "outputs": []
    }
  ]
}