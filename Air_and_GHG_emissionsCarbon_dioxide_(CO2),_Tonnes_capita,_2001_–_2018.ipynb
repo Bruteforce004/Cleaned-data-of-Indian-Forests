{
  "nbformat": 4,
  "nbformat_minor": 0,
  "metadata": {
    "colab": {
      "name": "Air and GHG emissionsCarbon dioxide (CO2), Tonnes/capita, 2001 – 2018.ipynb",
      "provenance": []
    },
    "kernelspec": {
      "name": "python3",
      "display_name": "Python 3"
    },
    "language_info": {
      "name": "python"
    }
  },
  "cells": [
    {
      "cell_type": "code",
      "metadata": {
        "id": "n9vh6tEXyG9q"
      },
      "source": [
        "import pandas as pd\n",
        "import numpy as  np"
      ],
      "execution_count": 1,
      "outputs": []
    },
    {
      "cell_type": "code",
      "metadata": {
        "id": "UmC-GteHyr_4"
      },
      "source": [
        "x= pd.read_excel('data_2.xlsx')"
      ],
      "execution_count": 4,
      "outputs": []
    },
    {
      "cell_type": "code",
      "metadata": {
        "colab": {
          "base_uri": "https://localhost:8080/",
          "height": 655
        },
        "id": "k77uCy_LywTQ",
        "outputId": "b4ed09ca-3c74-4d5f-87dc-b4a58e2d9d77"
      },
      "source": [
        "x"
      ],
      "execution_count": 5,
      "outputs": [
        {
          "output_type": "execute_result",
          "data": {
            "text/html": [
              "<div>\n",
              "<style scoped>\n",
              "    .dataframe tbody tr th:only-of-type {\n",
              "        vertical-align: middle;\n",
              "    }\n",
              "\n",
              "    .dataframe tbody tr th {\n",
              "        vertical-align: top;\n",
              "    }\n",
              "\n",
              "    .dataframe thead th {\n",
              "        text-align: right;\n",
              "    }\n",
              "</style>\n",
              "<table border=\"1\" class=\"dataframe\">\n",
              "  <thead>\n",
              "    <tr style=\"text-align: right;\">\n",
              "      <th></th>\n",
              "      <th>Air and GHG emissionsCarbon dioxide (CO2), Tonnes/capita, 2001 – 2018</th>\n",
              "      <th>Unnamed: 1</th>\n",
              "      <th>Unnamed: 2</th>\n",
              "      <th>Unnamed: 3</th>\n",
              "      <th>Unnamed: 4</th>\n",
              "      <th>Unnamed: 5</th>\n",
              "      <th>Unnamed: 6</th>\n",
              "    </tr>\n",
              "  </thead>\n",
              "  <tbody>\n",
              "    <tr>\n",
              "      <th>0</th>\n",
              "      <td>LOCATION</td>\n",
              "      <td>INDICATOR</td>\n",
              "      <td>SUBJECT</td>\n",
              "      <td>MEASURE</td>\n",
              "      <td>NaN</td>\n",
              "      <td>TIME</td>\n",
              "      <td>Value</td>\n",
              "    </tr>\n",
              "    <tr>\n",
              "      <th>1</th>\n",
              "      <td>IND</td>\n",
              "      <td>AIREMISSION</td>\n",
              "      <td>CO2</td>\n",
              "      <td>TONNE_CAP</td>\n",
              "      <td>NaN</td>\n",
              "      <td>2001</td>\n",
              "      <td>0.8</td>\n",
              "    </tr>\n",
              "    <tr>\n",
              "      <th>2</th>\n",
              "      <td>IND</td>\n",
              "      <td>AIREMISSION</td>\n",
              "      <td>CO2</td>\n",
              "      <td>TONNE_CAP</td>\n",
              "      <td>NaN</td>\n",
              "      <td>2002</td>\n",
              "      <td>0.9</td>\n",
              "    </tr>\n",
              "    <tr>\n",
              "      <th>3</th>\n",
              "      <td>IND</td>\n",
              "      <td>AIREMISSION</td>\n",
              "      <td>CO2</td>\n",
              "      <td>TONNE_CAP</td>\n",
              "      <td>NaN</td>\n",
              "      <td>2003</td>\n",
              "      <td>0.9</td>\n",
              "    </tr>\n",
              "    <tr>\n",
              "      <th>4</th>\n",
              "      <td>IND</td>\n",
              "      <td>AIREMISSION</td>\n",
              "      <td>CO2</td>\n",
              "      <td>TONNE_CAP</td>\n",
              "      <td>NaN</td>\n",
              "      <td>2004</td>\n",
              "      <td>0.9</td>\n",
              "    </tr>\n",
              "    <tr>\n",
              "      <th>5</th>\n",
              "      <td>IND</td>\n",
              "      <td>AIREMISSION</td>\n",
              "      <td>CO2</td>\n",
              "      <td>TONNE_CAP</td>\n",
              "      <td>NaN</td>\n",
              "      <td>2005</td>\n",
              "      <td>0.9</td>\n",
              "    </tr>\n",
              "    <tr>\n",
              "      <th>6</th>\n",
              "      <td>IND</td>\n",
              "      <td>AIREMISSION</td>\n",
              "      <td>CO2</td>\n",
              "      <td>TONNE_CAP</td>\n",
              "      <td>NaN</td>\n",
              "      <td>2006</td>\n",
              "      <td>1</td>\n",
              "    </tr>\n",
              "    <tr>\n",
              "      <th>7</th>\n",
              "      <td>IND</td>\n",
              "      <td>AIREMISSION</td>\n",
              "      <td>CO2</td>\n",
              "      <td>TONNE_CAP</td>\n",
              "      <td>NaN</td>\n",
              "      <td>2007</td>\n",
              "      <td>1.1</td>\n",
              "    </tr>\n",
              "    <tr>\n",
              "      <th>8</th>\n",
              "      <td>IND</td>\n",
              "      <td>AIREMISSION</td>\n",
              "      <td>CO2</td>\n",
              "      <td>TONNE_CAP</td>\n",
              "      <td>NaN</td>\n",
              "      <td>2008</td>\n",
              "      <td>1.1</td>\n",
              "    </tr>\n",
              "    <tr>\n",
              "      <th>9</th>\n",
              "      <td>IND</td>\n",
              "      <td>AIREMISSION</td>\n",
              "      <td>CO2</td>\n",
              "      <td>TONNE_CAP</td>\n",
              "      <td>NaN</td>\n",
              "      <td>2009</td>\n",
              "      <td>1.2</td>\n",
              "    </tr>\n",
              "    <tr>\n",
              "      <th>10</th>\n",
              "      <td>IND</td>\n",
              "      <td>AIREMISSION</td>\n",
              "      <td>CO2</td>\n",
              "      <td>TONNE_CAP</td>\n",
              "      <td>NaN</td>\n",
              "      <td>2010</td>\n",
              "      <td>1.3</td>\n",
              "    </tr>\n",
              "    <tr>\n",
              "      <th>11</th>\n",
              "      <td>IND</td>\n",
              "      <td>AIREMISSION</td>\n",
              "      <td>CO2</td>\n",
              "      <td>TONNE_CAP</td>\n",
              "      <td>NaN</td>\n",
              "      <td>2011</td>\n",
              "      <td>1.3</td>\n",
              "    </tr>\n",
              "    <tr>\n",
              "      <th>12</th>\n",
              "      <td>IND</td>\n",
              "      <td>AIREMISSION</td>\n",
              "      <td>CO2</td>\n",
              "      <td>TONNE_CAP</td>\n",
              "      <td>NaN</td>\n",
              "      <td>2012</td>\n",
              "      <td>1.4</td>\n",
              "    </tr>\n",
              "    <tr>\n",
              "      <th>13</th>\n",
              "      <td>IND</td>\n",
              "      <td>AIREMISSION</td>\n",
              "      <td>CO2</td>\n",
              "      <td>TONNE_CAP</td>\n",
              "      <td>NaN</td>\n",
              "      <td>2013</td>\n",
              "      <td>1.5</td>\n",
              "    </tr>\n",
              "    <tr>\n",
              "      <th>14</th>\n",
              "      <td>IND</td>\n",
              "      <td>AIREMISSION</td>\n",
              "      <td>CO2</td>\n",
              "      <td>TONNE_CAP</td>\n",
              "      <td>NaN</td>\n",
              "      <td>2014</td>\n",
              "      <td>1.6</td>\n",
              "    </tr>\n",
              "    <tr>\n",
              "      <th>15</th>\n",
              "      <td>IND</td>\n",
              "      <td>AIREMISSION</td>\n",
              "      <td>CO2</td>\n",
              "      <td>TONNE_CAP</td>\n",
              "      <td>NaN</td>\n",
              "      <td>2015</td>\n",
              "      <td>1.6</td>\n",
              "    </tr>\n",
              "    <tr>\n",
              "      <th>16</th>\n",
              "      <td>IND</td>\n",
              "      <td>AIREMISSION</td>\n",
              "      <td>CO2</td>\n",
              "      <td>TONNE_CAP</td>\n",
              "      <td>NaN</td>\n",
              "      <td>2016</td>\n",
              "      <td>1.6</td>\n",
              "    </tr>\n",
              "    <tr>\n",
              "      <th>17</th>\n",
              "      <td>IND</td>\n",
              "      <td>AIREMISSION</td>\n",
              "      <td>CO2</td>\n",
              "      <td>TONNE_CAP</td>\n",
              "      <td>NaN</td>\n",
              "      <td>2017</td>\n",
              "      <td>1.6</td>\n",
              "    </tr>\n",
              "    <tr>\n",
              "      <th>18</th>\n",
              "      <td>IND</td>\n",
              "      <td>AIREMISSION</td>\n",
              "      <td>CO2</td>\n",
              "      <td>TONNE_CAP</td>\n",
              "      <td>NaN</td>\n",
              "      <td>2018</td>\n",
              "      <td>1.7</td>\n",
              "    </tr>\n",
              "  </tbody>\n",
              "</table>\n",
              "</div>"
            ],
            "text/plain": [
              "   Air and GHG emissionsCarbon dioxide (CO2), Tonnes/capita, 2001 – 2018  ... Unnamed: 6\n",
              "0                                            LOCATION                     ...      Value\n",
              "1                                                 IND                     ...        0.8\n",
              "2                                                 IND                     ...        0.9\n",
              "3                                                 IND                     ...        0.9\n",
              "4                                                 IND                     ...        0.9\n",
              "5                                                 IND                     ...        0.9\n",
              "6                                                 IND                     ...          1\n",
              "7                                                 IND                     ...        1.1\n",
              "8                                                 IND                     ...        1.1\n",
              "9                                                 IND                     ...        1.2\n",
              "10                                                IND                     ...        1.3\n",
              "11                                                IND                     ...        1.3\n",
              "12                                                IND                     ...        1.4\n",
              "13                                                IND                     ...        1.5\n",
              "14                                                IND                     ...        1.6\n",
              "15                                                IND                     ...        1.6\n",
              "16                                                IND                     ...        1.6\n",
              "17                                                IND                     ...        1.6\n",
              "18                                                IND                     ...        1.7\n",
              "\n",
              "[19 rows x 7 columns]"
            ]
          },
          "metadata": {},
          "execution_count": 5
        }
      ]
    },
    {
      "cell_type": "code",
      "metadata": {
        "colab": {
          "base_uri": "https://localhost:8080/",
          "height": 221
        },
        "id": "G9Kr86f3zNXN",
        "outputId": "33437107-96bf-4c32-90ba-cc291006e732"
      },
      "source": [
        "x.head()"
      ],
      "execution_count": 6,
      "outputs": [
        {
          "output_type": "execute_result",
          "data": {
            "text/html": [
              "<div>\n",
              "<style scoped>\n",
              "    .dataframe tbody tr th:only-of-type {\n",
              "        vertical-align: middle;\n",
              "    }\n",
              "\n",
              "    .dataframe tbody tr th {\n",
              "        vertical-align: top;\n",
              "    }\n",
              "\n",
              "    .dataframe thead th {\n",
              "        text-align: right;\n",
              "    }\n",
              "</style>\n",
              "<table border=\"1\" class=\"dataframe\">\n",
              "  <thead>\n",
              "    <tr style=\"text-align: right;\">\n",
              "      <th></th>\n",
              "      <th>Air and GHG emissionsCarbon dioxide (CO2), Tonnes/capita, 2001 – 2018</th>\n",
              "      <th>Unnamed: 1</th>\n",
              "      <th>Unnamed: 2</th>\n",
              "      <th>Unnamed: 3</th>\n",
              "      <th>Unnamed: 4</th>\n",
              "      <th>Unnamed: 5</th>\n",
              "      <th>Unnamed: 6</th>\n",
              "    </tr>\n",
              "  </thead>\n",
              "  <tbody>\n",
              "    <tr>\n",
              "      <th>0</th>\n",
              "      <td>LOCATION</td>\n",
              "      <td>INDICATOR</td>\n",
              "      <td>SUBJECT</td>\n",
              "      <td>MEASURE</td>\n",
              "      <td>NaN</td>\n",
              "      <td>TIME</td>\n",
              "      <td>Value</td>\n",
              "    </tr>\n",
              "    <tr>\n",
              "      <th>1</th>\n",
              "      <td>IND</td>\n",
              "      <td>AIREMISSION</td>\n",
              "      <td>CO2</td>\n",
              "      <td>TONNE_CAP</td>\n",
              "      <td>NaN</td>\n",
              "      <td>2001</td>\n",
              "      <td>0.8</td>\n",
              "    </tr>\n",
              "    <tr>\n",
              "      <th>2</th>\n",
              "      <td>IND</td>\n",
              "      <td>AIREMISSION</td>\n",
              "      <td>CO2</td>\n",
              "      <td>TONNE_CAP</td>\n",
              "      <td>NaN</td>\n",
              "      <td>2002</td>\n",
              "      <td>0.9</td>\n",
              "    </tr>\n",
              "    <tr>\n",
              "      <th>3</th>\n",
              "      <td>IND</td>\n",
              "      <td>AIREMISSION</td>\n",
              "      <td>CO2</td>\n",
              "      <td>TONNE_CAP</td>\n",
              "      <td>NaN</td>\n",
              "      <td>2003</td>\n",
              "      <td>0.9</td>\n",
              "    </tr>\n",
              "    <tr>\n",
              "      <th>4</th>\n",
              "      <td>IND</td>\n",
              "      <td>AIREMISSION</td>\n",
              "      <td>CO2</td>\n",
              "      <td>TONNE_CAP</td>\n",
              "      <td>NaN</td>\n",
              "      <td>2004</td>\n",
              "      <td>0.9</td>\n",
              "    </tr>\n",
              "  </tbody>\n",
              "</table>\n",
              "</div>"
            ],
            "text/plain": [
              "  Air and GHG emissionsCarbon dioxide (CO2), Tonnes/capita, 2001 – 2018  ... Unnamed: 6\n",
              "0                                           LOCATION                     ...      Value\n",
              "1                                                IND                     ...        0.8\n",
              "2                                                IND                     ...        0.9\n",
              "3                                                IND                     ...        0.9\n",
              "4                                                IND                     ...        0.9\n",
              "\n",
              "[5 rows x 7 columns]"
            ]
          },
          "metadata": {},
          "execution_count": 6
        }
      ]
    },
    {
      "cell_type": "code",
      "metadata": {
        "id": "PKxqlJ2D0CxX"
      },
      "source": [
        "x.drop(columns=['Air and GHG emissionsCarbon dioxide (CO2), Tonnes/capita, 2001 – 2018','Unnamed: 1','Unnamed: 3','Unnamed: 4'], axis=0, inplace=True)"
      ],
      "execution_count": 7,
      "outputs": []
    },
    {
      "cell_type": "code",
      "metadata": {
        "id": "k800X_r60oGS"
      },
      "source": [
        "x.drop(columns='Unnamed: 2',axis=0, inplace=True)"
      ],
      "execution_count": 9,
      "outputs": []
    },
    {
      "cell_type": "code",
      "metadata": {
        "colab": {
          "base_uri": "https://localhost:8080/",
          "height": 204
        },
        "id": "zUAws59k0gsZ",
        "outputId": "2748b523-7ab1-4826-9b98-dd39a75db58b"
      },
      "source": [
        "x.head()"
      ],
      "execution_count": 10,
      "outputs": [
        {
          "output_type": "execute_result",
          "data": {
            "text/html": [
              "<div>\n",
              "<style scoped>\n",
              "    .dataframe tbody tr th:only-of-type {\n",
              "        vertical-align: middle;\n",
              "    }\n",
              "\n",
              "    .dataframe tbody tr th {\n",
              "        vertical-align: top;\n",
              "    }\n",
              "\n",
              "    .dataframe thead th {\n",
              "        text-align: right;\n",
              "    }\n",
              "</style>\n",
              "<table border=\"1\" class=\"dataframe\">\n",
              "  <thead>\n",
              "    <tr style=\"text-align: right;\">\n",
              "      <th></th>\n",
              "      <th>Unnamed: 5</th>\n",
              "      <th>Unnamed: 6</th>\n",
              "    </tr>\n",
              "  </thead>\n",
              "  <tbody>\n",
              "    <tr>\n",
              "      <th>0</th>\n",
              "      <td>TIME</td>\n",
              "      <td>Value</td>\n",
              "    </tr>\n",
              "    <tr>\n",
              "      <th>1</th>\n",
              "      <td>2001</td>\n",
              "      <td>0.8</td>\n",
              "    </tr>\n",
              "    <tr>\n",
              "      <th>2</th>\n",
              "      <td>2002</td>\n",
              "      <td>0.9</td>\n",
              "    </tr>\n",
              "    <tr>\n",
              "      <th>3</th>\n",
              "      <td>2003</td>\n",
              "      <td>0.9</td>\n",
              "    </tr>\n",
              "    <tr>\n",
              "      <th>4</th>\n",
              "      <td>2004</td>\n",
              "      <td>0.9</td>\n",
              "    </tr>\n",
              "  </tbody>\n",
              "</table>\n",
              "</div>"
            ],
            "text/plain": [
              "  Unnamed: 5 Unnamed: 6\n",
              "0       TIME      Value\n",
              "1       2001        0.8\n",
              "2       2002        0.9\n",
              "3       2003        0.9\n",
              "4       2004        0.9"
            ]
          },
          "metadata": {},
          "execution_count": 10
        }
      ]
    },
    {
      "cell_type": "code",
      "metadata": {
        "id": "9ZJxSuQO0jDC"
      },
      "source": [
        "x.columns=['year co2 is measured','value']"
      ],
      "execution_count": 11,
      "outputs": []
    },
    {
      "cell_type": "code",
      "metadata": {
        "colab": {
          "base_uri": "https://localhost:8080/",
          "height": 638
        },
        "id": "6CcJdyZc088B",
        "outputId": "a68efe21-092f-4f98-9331-eefc0021ff62"
      },
      "source": [
        "x"
      ],
      "execution_count": 12,
      "outputs": [
        {
          "output_type": "execute_result",
          "data": {
            "text/html": [
              "<div>\n",
              "<style scoped>\n",
              "    .dataframe tbody tr th:only-of-type {\n",
              "        vertical-align: middle;\n",
              "    }\n",
              "\n",
              "    .dataframe tbody tr th {\n",
              "        vertical-align: top;\n",
              "    }\n",
              "\n",
              "    .dataframe thead th {\n",
              "        text-align: right;\n",
              "    }\n",
              "</style>\n",
              "<table border=\"1\" class=\"dataframe\">\n",
              "  <thead>\n",
              "    <tr style=\"text-align: right;\">\n",
              "      <th></th>\n",
              "      <th>year co2 is measured</th>\n",
              "      <th>value</th>\n",
              "    </tr>\n",
              "  </thead>\n",
              "  <tbody>\n",
              "    <tr>\n",
              "      <th>0</th>\n",
              "      <td>TIME</td>\n",
              "      <td>Value</td>\n",
              "    </tr>\n",
              "    <tr>\n",
              "      <th>1</th>\n",
              "      <td>2001</td>\n",
              "      <td>0.8</td>\n",
              "    </tr>\n",
              "    <tr>\n",
              "      <th>2</th>\n",
              "      <td>2002</td>\n",
              "      <td>0.9</td>\n",
              "    </tr>\n",
              "    <tr>\n",
              "      <th>3</th>\n",
              "      <td>2003</td>\n",
              "      <td>0.9</td>\n",
              "    </tr>\n",
              "    <tr>\n",
              "      <th>4</th>\n",
              "      <td>2004</td>\n",
              "      <td>0.9</td>\n",
              "    </tr>\n",
              "    <tr>\n",
              "      <th>5</th>\n",
              "      <td>2005</td>\n",
              "      <td>0.9</td>\n",
              "    </tr>\n",
              "    <tr>\n",
              "      <th>6</th>\n",
              "      <td>2006</td>\n",
              "      <td>1</td>\n",
              "    </tr>\n",
              "    <tr>\n",
              "      <th>7</th>\n",
              "      <td>2007</td>\n",
              "      <td>1.1</td>\n",
              "    </tr>\n",
              "    <tr>\n",
              "      <th>8</th>\n",
              "      <td>2008</td>\n",
              "      <td>1.1</td>\n",
              "    </tr>\n",
              "    <tr>\n",
              "      <th>9</th>\n",
              "      <td>2009</td>\n",
              "      <td>1.2</td>\n",
              "    </tr>\n",
              "    <tr>\n",
              "      <th>10</th>\n",
              "      <td>2010</td>\n",
              "      <td>1.3</td>\n",
              "    </tr>\n",
              "    <tr>\n",
              "      <th>11</th>\n",
              "      <td>2011</td>\n",
              "      <td>1.3</td>\n",
              "    </tr>\n",
              "    <tr>\n",
              "      <th>12</th>\n",
              "      <td>2012</td>\n",
              "      <td>1.4</td>\n",
              "    </tr>\n",
              "    <tr>\n",
              "      <th>13</th>\n",
              "      <td>2013</td>\n",
              "      <td>1.5</td>\n",
              "    </tr>\n",
              "    <tr>\n",
              "      <th>14</th>\n",
              "      <td>2014</td>\n",
              "      <td>1.6</td>\n",
              "    </tr>\n",
              "    <tr>\n",
              "      <th>15</th>\n",
              "      <td>2015</td>\n",
              "      <td>1.6</td>\n",
              "    </tr>\n",
              "    <tr>\n",
              "      <th>16</th>\n",
              "      <td>2016</td>\n",
              "      <td>1.6</td>\n",
              "    </tr>\n",
              "    <tr>\n",
              "      <th>17</th>\n",
              "      <td>2017</td>\n",
              "      <td>1.6</td>\n",
              "    </tr>\n",
              "    <tr>\n",
              "      <th>18</th>\n",
              "      <td>2018</td>\n",
              "      <td>1.7</td>\n",
              "    </tr>\n",
              "  </tbody>\n",
              "</table>\n",
              "</div>"
            ],
            "text/plain": [
              "   year co2 is measured  value\n",
              "0                  TIME  Value\n",
              "1                  2001    0.8\n",
              "2                  2002    0.9\n",
              "3                  2003    0.9\n",
              "4                  2004    0.9\n",
              "5                  2005    0.9\n",
              "6                  2006      1\n",
              "7                  2007    1.1\n",
              "8                  2008    1.1\n",
              "9                  2009    1.2\n",
              "10                 2010    1.3\n",
              "11                 2011    1.3\n",
              "12                 2012    1.4\n",
              "13                 2013    1.5\n",
              "14                 2014    1.6\n",
              "15                 2015    1.6\n",
              "16                 2016    1.6\n",
              "17                 2017    1.6\n",
              "18                 2018    1.7"
            ]
          },
          "metadata": {},
          "execution_count": 12
        }
      ]
    },
    {
      "cell_type": "code",
      "metadata": {
        "colab": {
          "base_uri": "https://localhost:8080/"
        },
        "id": "VX3dfV4u0-t7",
        "outputId": "ef399c08-a170-4eec-bbc7-84df7ac7cfb3"
      },
      "source": [
        "type(x['value'][9])"
      ],
      "execution_count": 13,
      "outputs": [
        {
          "output_type": "execute_result",
          "data": {
            "text/plain": [
              "float"
            ]
          },
          "metadata": {},
          "execution_count": 13
        }
      ]
    },
    {
      "cell_type": "code",
      "metadata": {
        "colab": {
          "base_uri": "https://localhost:8080/"
        },
        "id": "xjZfiNXH1IWg",
        "outputId": "48c6b028-2485-4794-ff5c-0ad1737411bf"
      },
      "source": [
        "x.dtypes"
      ],
      "execution_count": 14,
      "outputs": [
        {
          "output_type": "execute_result",
          "data": {
            "text/plain": [
              "year co2 is measured    object\n",
              "value                   object\n",
              "dtype: object"
            ]
          },
          "metadata": {},
          "execution_count": 14
        }
      ]
    },
    {
      "cell_type": "code",
      "metadata": {
        "id": "4eNmtykI1Koh"
      },
      "source": [
        "x.drop(labels=[0,1,2,3,4,5,6,7], axis=0, inplace=True)"
      ],
      "execution_count": 17,
      "outputs": []
    },
    {
      "cell_type": "code",
      "metadata": {
        "id": "V9npm0Kl1umd"
      },
      "source": [
        "x.drop(labels=8, axis=0, inplace=True)"
      ],
      "execution_count": 19,
      "outputs": []
    },
    {
      "cell_type": "code",
      "metadata": {
        "colab": {
          "base_uri": "https://localhost:8080/",
          "height": 359
        },
        "id": "c1wbrtXJ1dU3",
        "outputId": "d7311108-f9aa-4e36-a99e-2cd854b14f0c"
      },
      "source": [
        "x"
      ],
      "execution_count": 20,
      "outputs": [
        {
          "output_type": "execute_result",
          "data": {
            "text/html": [
              "<div>\n",
              "<style scoped>\n",
              "    .dataframe tbody tr th:only-of-type {\n",
              "        vertical-align: middle;\n",
              "    }\n",
              "\n",
              "    .dataframe tbody tr th {\n",
              "        vertical-align: top;\n",
              "    }\n",
              "\n",
              "    .dataframe thead th {\n",
              "        text-align: right;\n",
              "    }\n",
              "</style>\n",
              "<table border=\"1\" class=\"dataframe\">\n",
              "  <thead>\n",
              "    <tr style=\"text-align: right;\">\n",
              "      <th></th>\n",
              "      <th>year co2 is measured</th>\n",
              "      <th>value</th>\n",
              "    </tr>\n",
              "  </thead>\n",
              "  <tbody>\n",
              "    <tr>\n",
              "      <th>9</th>\n",
              "      <td>2009</td>\n",
              "      <td>1.2</td>\n",
              "    </tr>\n",
              "    <tr>\n",
              "      <th>10</th>\n",
              "      <td>2010</td>\n",
              "      <td>1.3</td>\n",
              "    </tr>\n",
              "    <tr>\n",
              "      <th>11</th>\n",
              "      <td>2011</td>\n",
              "      <td>1.3</td>\n",
              "    </tr>\n",
              "    <tr>\n",
              "      <th>12</th>\n",
              "      <td>2012</td>\n",
              "      <td>1.4</td>\n",
              "    </tr>\n",
              "    <tr>\n",
              "      <th>13</th>\n",
              "      <td>2013</td>\n",
              "      <td>1.5</td>\n",
              "    </tr>\n",
              "    <tr>\n",
              "      <th>14</th>\n",
              "      <td>2014</td>\n",
              "      <td>1.6</td>\n",
              "    </tr>\n",
              "    <tr>\n",
              "      <th>15</th>\n",
              "      <td>2015</td>\n",
              "      <td>1.6</td>\n",
              "    </tr>\n",
              "    <tr>\n",
              "      <th>16</th>\n",
              "      <td>2016</td>\n",
              "      <td>1.6</td>\n",
              "    </tr>\n",
              "    <tr>\n",
              "      <th>17</th>\n",
              "      <td>2017</td>\n",
              "      <td>1.6</td>\n",
              "    </tr>\n",
              "    <tr>\n",
              "      <th>18</th>\n",
              "      <td>2018</td>\n",
              "      <td>1.7</td>\n",
              "    </tr>\n",
              "  </tbody>\n",
              "</table>\n",
              "</div>"
            ],
            "text/plain": [
              "   year co2 is measured value\n",
              "9                  2009   1.2\n",
              "10                 2010   1.3\n",
              "11                 2011   1.3\n",
              "12                 2012   1.4\n",
              "13                 2013   1.5\n",
              "14                 2014   1.6\n",
              "15                 2015   1.6\n",
              "16                 2016   1.6\n",
              "17                 2017   1.6\n",
              "18                 2018   1.7"
            ]
          },
          "metadata": {},
          "execution_count": 20
        }
      ]
    },
    {
      "cell_type": "code",
      "metadata": {
        "id": "m2w_FWda1rk2"
      },
      "source": [
        "x.reset_index(drop=True, inplace=True)"
      ],
      "execution_count": 21,
      "outputs": []
    },
    {
      "cell_type": "code",
      "metadata": {
        "id": "rf83sQnW2B5I"
      },
      "source": [
        "x['value']=x['value'].astype(float)"
      ],
      "execution_count": 22,
      "outputs": []
    },
    {
      "cell_type": "code",
      "metadata": {
        "colab": {
          "base_uri": "https://localhost:8080/"
        },
        "id": "VWTV502Z2IQ9",
        "outputId": "8ce9d968-4477-47a1-bc57-81d1a1319743"
      },
      "source": [
        "x.dtypes"
      ],
      "execution_count": 23,
      "outputs": [
        {
          "output_type": "execute_result",
          "data": {
            "text/plain": [
              "year co2 is measured     object\n",
              "value                   float64\n",
              "dtype: object"
            ]
          },
          "metadata": {},
          "execution_count": 23
        }
      ]
    },
    {
      "cell_type": "code",
      "metadata": {
        "id": "C1TTNDLq2KE1"
      },
      "source": [
        "x.to_csv('Air and GHG emissionsCarbon dioxide (CO2)2009_2018.csv')"
      ],
      "execution_count": 25,
      "outputs": []
    },
    {
      "cell_type": "code",
      "metadata": {
        "colab": {
          "base_uri": "https://localhost:8080/",
          "height": 301
        },
        "id": "bVJ7JKwz2a4P",
        "outputId": "baa34c60-c496-4182-a901-7c25d2a08f1e"
      },
      "source": [
        "x.style.set_caption('Air and GHG emissionsCarbon dioxide (CO2), Tonnes/capita, 2001 – 2018')"
      ],
      "execution_count": 26,
      "outputs": [
        {
          "output_type": "execute_result",
          "data": {
            "text/html": [
              "<style  type=\"text/css\" >\n",
              "</style><table id=\"T_21cf5c66_119d_11ec_ab44_0242ac1c0002\" ><caption>Air and GHG emissionsCarbon dioxide (CO2), Tonnes/capita, 2001 – 2018</caption><thead>    <tr>        <th class=\"blank level0\" ></th>        <th class=\"col_heading level0 col0\" >year co2 is measured</th>        <th class=\"col_heading level0 col1\" >value</th>    </tr></thead><tbody>\n",
              "                <tr>\n",
              "                        <th id=\"T_21cf5c66_119d_11ec_ab44_0242ac1c0002level0_row0\" class=\"row_heading level0 row0\" >0</th>\n",
              "                        <td id=\"T_21cf5c66_119d_11ec_ab44_0242ac1c0002row0_col0\" class=\"data row0 col0\" >2009</td>\n",
              "                        <td id=\"T_21cf5c66_119d_11ec_ab44_0242ac1c0002row0_col1\" class=\"data row0 col1\" >1.200000</td>\n",
              "            </tr>\n",
              "            <tr>\n",
              "                        <th id=\"T_21cf5c66_119d_11ec_ab44_0242ac1c0002level0_row1\" class=\"row_heading level0 row1\" >1</th>\n",
              "                        <td id=\"T_21cf5c66_119d_11ec_ab44_0242ac1c0002row1_col0\" class=\"data row1 col0\" >2010</td>\n",
              "                        <td id=\"T_21cf5c66_119d_11ec_ab44_0242ac1c0002row1_col1\" class=\"data row1 col1\" >1.300000</td>\n",
              "            </tr>\n",
              "            <tr>\n",
              "                        <th id=\"T_21cf5c66_119d_11ec_ab44_0242ac1c0002level0_row2\" class=\"row_heading level0 row2\" >2</th>\n",
              "                        <td id=\"T_21cf5c66_119d_11ec_ab44_0242ac1c0002row2_col0\" class=\"data row2 col0\" >2011</td>\n",
              "                        <td id=\"T_21cf5c66_119d_11ec_ab44_0242ac1c0002row2_col1\" class=\"data row2 col1\" >1.300000</td>\n",
              "            </tr>\n",
              "            <tr>\n",
              "                        <th id=\"T_21cf5c66_119d_11ec_ab44_0242ac1c0002level0_row3\" class=\"row_heading level0 row3\" >3</th>\n",
              "                        <td id=\"T_21cf5c66_119d_11ec_ab44_0242ac1c0002row3_col0\" class=\"data row3 col0\" >2012</td>\n",
              "                        <td id=\"T_21cf5c66_119d_11ec_ab44_0242ac1c0002row3_col1\" class=\"data row3 col1\" >1.400000</td>\n",
              "            </tr>\n",
              "            <tr>\n",
              "                        <th id=\"T_21cf5c66_119d_11ec_ab44_0242ac1c0002level0_row4\" class=\"row_heading level0 row4\" >4</th>\n",
              "                        <td id=\"T_21cf5c66_119d_11ec_ab44_0242ac1c0002row4_col0\" class=\"data row4 col0\" >2013</td>\n",
              "                        <td id=\"T_21cf5c66_119d_11ec_ab44_0242ac1c0002row4_col1\" class=\"data row4 col1\" >1.500000</td>\n",
              "            </tr>\n",
              "            <tr>\n",
              "                        <th id=\"T_21cf5c66_119d_11ec_ab44_0242ac1c0002level0_row5\" class=\"row_heading level0 row5\" >5</th>\n",
              "                        <td id=\"T_21cf5c66_119d_11ec_ab44_0242ac1c0002row5_col0\" class=\"data row5 col0\" >2014</td>\n",
              "                        <td id=\"T_21cf5c66_119d_11ec_ab44_0242ac1c0002row5_col1\" class=\"data row5 col1\" >1.600000</td>\n",
              "            </tr>\n",
              "            <tr>\n",
              "                        <th id=\"T_21cf5c66_119d_11ec_ab44_0242ac1c0002level0_row6\" class=\"row_heading level0 row6\" >6</th>\n",
              "                        <td id=\"T_21cf5c66_119d_11ec_ab44_0242ac1c0002row6_col0\" class=\"data row6 col0\" >2015</td>\n",
              "                        <td id=\"T_21cf5c66_119d_11ec_ab44_0242ac1c0002row6_col1\" class=\"data row6 col1\" >1.600000</td>\n",
              "            </tr>\n",
              "            <tr>\n",
              "                        <th id=\"T_21cf5c66_119d_11ec_ab44_0242ac1c0002level0_row7\" class=\"row_heading level0 row7\" >7</th>\n",
              "                        <td id=\"T_21cf5c66_119d_11ec_ab44_0242ac1c0002row7_col0\" class=\"data row7 col0\" >2016</td>\n",
              "                        <td id=\"T_21cf5c66_119d_11ec_ab44_0242ac1c0002row7_col1\" class=\"data row7 col1\" >1.600000</td>\n",
              "            </tr>\n",
              "            <tr>\n",
              "                        <th id=\"T_21cf5c66_119d_11ec_ab44_0242ac1c0002level0_row8\" class=\"row_heading level0 row8\" >8</th>\n",
              "                        <td id=\"T_21cf5c66_119d_11ec_ab44_0242ac1c0002row8_col0\" class=\"data row8 col0\" >2017</td>\n",
              "                        <td id=\"T_21cf5c66_119d_11ec_ab44_0242ac1c0002row8_col1\" class=\"data row8 col1\" >1.600000</td>\n",
              "            </tr>\n",
              "            <tr>\n",
              "                        <th id=\"T_21cf5c66_119d_11ec_ab44_0242ac1c0002level0_row9\" class=\"row_heading level0 row9\" >9</th>\n",
              "                        <td id=\"T_21cf5c66_119d_11ec_ab44_0242ac1c0002row9_col0\" class=\"data row9 col0\" >2018</td>\n",
              "                        <td id=\"T_21cf5c66_119d_11ec_ab44_0242ac1c0002row9_col1\" class=\"data row9 col1\" >1.700000</td>\n",
              "            </tr>\n",
              "    </tbody></table>"
            ],
            "text/plain": [
              "<pandas.io.formats.style.Styler at 0x7f79c4efec50>"
            ]
          },
          "metadata": {},
          "execution_count": 26
        }
      ]
    },
    {
      "cell_type": "code",
      "metadata": {
        "id": "uIOe8ec82qR8"
      },
      "source": [
        ""
      ],
      "execution_count": null,
      "outputs": []
    }
  ]
}