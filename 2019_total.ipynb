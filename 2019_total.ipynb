{
  "nbformat": 4,
  "nbformat_minor": 0,
  "metadata": {
    "colab": {
      "name": "2019_total.ipynb",
      "provenance": []
    },
    "kernelspec": {
      "name": "python3",
      "display_name": "Python 3"
    },
    "language_info": {
      "name": "python"
    }
  },
  "cells": [
    {
      "cell_type": "markdown",
      "metadata": {
        "id": "VYMhfW7JsgzU"
      },
      "source": [
        "### **`Total forest cover of india-2019`**"
      ]
    },
    {
      "cell_type": "code",
      "metadata": {
        "id": "pUPsIX1_nasW"
      },
      "source": [
        "import pandas as pd"
      ],
      "execution_count": 1,
      "outputs": []
    },
    {
      "cell_type": "code",
      "metadata": {
        "id": "1lknT9ybncoB"
      },
      "source": [
        "import numpy as np"
      ],
      "execution_count": 2,
      "outputs": []
    },
    {
      "cell_type": "markdown",
      "metadata": {
        "id": "YadHdm_YoHUQ"
      },
      "source": [
        "Let's import the total forest cover of india-2019"
      ]
    },
    {
      "cell_type": "code",
      "metadata": {
        "id": "nvdFiFCfneVP"
      },
      "source": [
        "url='https://raw.githubusercontent.com/sg-008/Data-of-Indian-Forests/main/2019_Forest_cover_of_India.csv'\n",
        "data_3=pd.read_csv(url)"
      ],
      "execution_count": 3,
      "outputs": []
    },
    {
      "cell_type": "markdown",
      "metadata": {
        "id": "eLqeqiAlozDC"
      },
      "source": [
        "First look of data"
      ]
    },
    {
      "cell_type": "code",
      "metadata": {
        "colab": {
          "base_uri": "https://localhost:8080/",
          "height": 266
        },
        "id": "s0GgwiRxoxG7",
        "outputId": "2f3c6d2e-0018-494d-b14f-28ec50c89830"
      },
      "source": [
        "data_3"
      ],
      "execution_count": 4,
      "outputs": [
        {
          "output_type": "execute_result",
          "data": {
            "text/html": [
              "<div>\n",
              "<style scoped>\n",
              "    .dataframe tbody tr th:only-of-type {\n",
              "        vertical-align: middle;\n",
              "    }\n",
              "\n",
              "    .dataframe tbody tr th {\n",
              "        vertical-align: top;\n",
              "    }\n",
              "\n",
              "    .dataframe thead th {\n",
              "        text-align: right;\n",
              "    }\n",
              "</style>\n",
              "<table border=\"1\" class=\"dataframe\">\n",
              "  <thead>\n",
              "    <tr style=\"text-align: right;\">\n",
              "      <th></th>\n",
              "      <th>Unnamed: 0</th>\n",
              "      <th>Class</th>\n",
              "      <th>Area (sq km)</th>\n",
              "      <th>Percentage of Geographical Area</th>\n",
              "    </tr>\n",
              "  </thead>\n",
              "  <tbody>\n",
              "    <tr>\n",
              "      <th>0</th>\n",
              "      <td>Very Dense Forest</td>\n",
              "      <td>NaN</td>\n",
              "      <td>99,278</td>\n",
              "      <td>3.02</td>\n",
              "    </tr>\n",
              "    <tr>\n",
              "      <th>1</th>\n",
              "      <td>Moderately Dense Forest</td>\n",
              "      <td>NaN</td>\n",
              "      <td>3,08,472</td>\n",
              "      <td>9.39</td>\n",
              "    </tr>\n",
              "    <tr>\n",
              "      <th>2</th>\n",
              "      <td>Open Forest</td>\n",
              "      <td>NaN</td>\n",
              "      <td>3,04,499</td>\n",
              "      <td>9.26</td>\n",
              "    </tr>\n",
              "    <tr>\n",
              "      <th>3</th>\n",
              "      <td>Total Forest Cover</td>\n",
              "      <td>NaN</td>\n",
              "      <td>7,12,249</td>\n",
              "      <td>21.67</td>\n",
              "    </tr>\n",
              "    <tr>\n",
              "      <th>4</th>\n",
              "      <td>Scrub</td>\n",
              "      <td>NaN</td>\n",
              "      <td>46,297</td>\n",
              "      <td>1.41</td>\n",
              "    </tr>\n",
              "    <tr>\n",
              "      <th>5</th>\n",
              "      <td>Non-Forest</td>\n",
              "      <td>NaN</td>\n",
              "      <td>25,28,923</td>\n",
              "      <td>76.92</td>\n",
              "    </tr>\n",
              "    <tr>\n",
              "      <th>6</th>\n",
              "      <td>Total Geographical Area</td>\n",
              "      <td>NaN</td>\n",
              "      <td>32,87,469</td>\n",
              "      <td>100.00</td>\n",
              "    </tr>\n",
              "  </tbody>\n",
              "</table>\n",
              "</div>"
            ],
            "text/plain": [
              "                Unnamed: 0  Class Area (sq km)  Percentage of Geographical Area\n",
              "0        Very Dense Forest    NaN       99,278                             3.02\n",
              "1  Moderately Dense Forest    NaN     3,08,472                             9.39\n",
              "2              Open Forest    NaN     3,04,499                             9.26\n",
              "3       Total Forest Cover    NaN     7,12,249                            21.67\n",
              "4                    Scrub    NaN       46,297                             1.41\n",
              "5               Non-Forest    NaN    25,28,923                            76.92\n",
              "6  Total Geographical Area    NaN    32,87,469                           100.00"
            ]
          },
          "metadata": {},
          "execution_count": 4
        }
      ]
    },
    {
      "cell_type": "markdown",
      "metadata": {
        "id": "GkokjkxgpAO4"
      },
      "source": [
        "As you can see, there is a unnamed column, missing column and values are in string"
      ]
    },
    {
      "cell_type": "markdown",
      "metadata": {
        "id": "LQOeBKrUplp_"
      },
      "source": [
        "Let's start by dropping the column 'class' which is filled with NaN"
      ]
    },
    {
      "cell_type": "code",
      "metadata": {
        "id": "17Qeqdj_pend"
      },
      "source": [
        "data_3=data_3.drop(columns='Class')"
      ],
      "execution_count": 7,
      "outputs": []
    },
    {
      "cell_type": "code",
      "metadata": {
        "colab": {
          "base_uri": "https://localhost:8080/",
          "height": 204
        },
        "id": "O7hr1C60qDTN",
        "outputId": "d0b6c716-f66b-4f6d-b996-8a17a76375f0"
      },
      "source": [
        "data_3.head()"
      ],
      "execution_count": 8,
      "outputs": [
        {
          "output_type": "execute_result",
          "data": {
            "text/html": [
              "<div>\n",
              "<style scoped>\n",
              "    .dataframe tbody tr th:only-of-type {\n",
              "        vertical-align: middle;\n",
              "    }\n",
              "\n",
              "    .dataframe tbody tr th {\n",
              "        vertical-align: top;\n",
              "    }\n",
              "\n",
              "    .dataframe thead th {\n",
              "        text-align: right;\n",
              "    }\n",
              "</style>\n",
              "<table border=\"1\" class=\"dataframe\">\n",
              "  <thead>\n",
              "    <tr style=\"text-align: right;\">\n",
              "      <th></th>\n",
              "      <th>Unnamed: 0</th>\n",
              "      <th>Area (sq km)</th>\n",
              "      <th>Percentage of Geographical Area</th>\n",
              "    </tr>\n",
              "  </thead>\n",
              "  <tbody>\n",
              "    <tr>\n",
              "      <th>0</th>\n",
              "      <td>Very Dense Forest</td>\n",
              "      <td>99,278</td>\n",
              "      <td>3.02</td>\n",
              "    </tr>\n",
              "    <tr>\n",
              "      <th>1</th>\n",
              "      <td>Moderately Dense Forest</td>\n",
              "      <td>3,08,472</td>\n",
              "      <td>9.39</td>\n",
              "    </tr>\n",
              "    <tr>\n",
              "      <th>2</th>\n",
              "      <td>Open Forest</td>\n",
              "      <td>3,04,499</td>\n",
              "      <td>9.26</td>\n",
              "    </tr>\n",
              "    <tr>\n",
              "      <th>3</th>\n",
              "      <td>Total Forest Cover</td>\n",
              "      <td>7,12,249</td>\n",
              "      <td>21.67</td>\n",
              "    </tr>\n",
              "    <tr>\n",
              "      <th>4</th>\n",
              "      <td>Scrub</td>\n",
              "      <td>46,297</td>\n",
              "      <td>1.41</td>\n",
              "    </tr>\n",
              "  </tbody>\n",
              "</table>\n",
              "</div>"
            ],
            "text/plain": [
              "                Unnamed: 0 Area (sq km)  Percentage of Geographical Area\n",
              "0        Very Dense Forest       99,278                             3.02\n",
              "1  Moderately Dense Forest     3,08,472                             9.39\n",
              "2              Open Forest     3,04,499                             9.26\n",
              "3       Total Forest Cover     7,12,249                            21.67\n",
              "4                    Scrub       46,297                             1.41"
            ]
          },
          "metadata": {},
          "execution_count": 8
        }
      ]
    },
    {
      "cell_type": "markdown",
      "metadata": {
        "id": "qCQJ4W0eqL8R"
      },
      "source": [
        "Let's rename the columns"
      ]
    },
    {
      "cell_type": "code",
      "metadata": {
        "id": "xTiXXBtZqJZq"
      },
      "source": [
        "data_3.columns=['Classification','Area(sq km)','% of Geographical Area']"
      ],
      "execution_count": 9,
      "outputs": []
    },
    {
      "cell_type": "code",
      "metadata": {
        "colab": {
          "base_uri": "https://localhost:8080/",
          "height": 266
        },
        "id": "ahF4uL3qqmGl",
        "outputId": "43951ac8-ae42-40bf-9826-086f0e51daea"
      },
      "source": [
        "data_3"
      ],
      "execution_count": 10,
      "outputs": [
        {
          "output_type": "execute_result",
          "data": {
            "text/html": [
              "<div>\n",
              "<style scoped>\n",
              "    .dataframe tbody tr th:only-of-type {\n",
              "        vertical-align: middle;\n",
              "    }\n",
              "\n",
              "    .dataframe tbody tr th {\n",
              "        vertical-align: top;\n",
              "    }\n",
              "\n",
              "    .dataframe thead th {\n",
              "        text-align: right;\n",
              "    }\n",
              "</style>\n",
              "<table border=\"1\" class=\"dataframe\">\n",
              "  <thead>\n",
              "    <tr style=\"text-align: right;\">\n",
              "      <th></th>\n",
              "      <th>Classification</th>\n",
              "      <th>Area(sq km)</th>\n",
              "      <th>% of Geographical Area</th>\n",
              "    </tr>\n",
              "  </thead>\n",
              "  <tbody>\n",
              "    <tr>\n",
              "      <th>0</th>\n",
              "      <td>Very Dense Forest</td>\n",
              "      <td>99,278</td>\n",
              "      <td>3.02</td>\n",
              "    </tr>\n",
              "    <tr>\n",
              "      <th>1</th>\n",
              "      <td>Moderately Dense Forest</td>\n",
              "      <td>3,08,472</td>\n",
              "      <td>9.39</td>\n",
              "    </tr>\n",
              "    <tr>\n",
              "      <th>2</th>\n",
              "      <td>Open Forest</td>\n",
              "      <td>3,04,499</td>\n",
              "      <td>9.26</td>\n",
              "    </tr>\n",
              "    <tr>\n",
              "      <th>3</th>\n",
              "      <td>Total Forest Cover</td>\n",
              "      <td>7,12,249</td>\n",
              "      <td>21.67</td>\n",
              "    </tr>\n",
              "    <tr>\n",
              "      <th>4</th>\n",
              "      <td>Scrub</td>\n",
              "      <td>46,297</td>\n",
              "      <td>1.41</td>\n",
              "    </tr>\n",
              "    <tr>\n",
              "      <th>5</th>\n",
              "      <td>Non-Forest</td>\n",
              "      <td>25,28,923</td>\n",
              "      <td>76.92</td>\n",
              "    </tr>\n",
              "    <tr>\n",
              "      <th>6</th>\n",
              "      <td>Total Geographical Area</td>\n",
              "      <td>32,87,469</td>\n",
              "      <td>100.00</td>\n",
              "    </tr>\n",
              "  </tbody>\n",
              "</table>\n",
              "</div>"
            ],
            "text/plain": [
              "            Classification Area(sq km)  % of Geographical Area\n",
              "0        Very Dense Forest      99,278                    3.02\n",
              "1  Moderately Dense Forest    3,08,472                    9.39\n",
              "2              Open Forest    3,04,499                    9.26\n",
              "3       Total Forest Cover    7,12,249                   21.67\n",
              "4                    Scrub      46,297                    1.41\n",
              "5               Non-Forest   25,28,923                   76.92\n",
              "6  Total Geographical Area   32,87,469                  100.00"
            ]
          },
          "metadata": {},
          "execution_count": 10
        }
      ]
    },
    {
      "cell_type": "markdown",
      "metadata": {
        "id": "E36NPLVzquVD"
      },
      "source": [
        "Let's check the data type of each column"
      ]
    },
    {
      "cell_type": "code",
      "metadata": {
        "colab": {
          "base_uri": "https://localhost:8080/"
        },
        "id": "j-IkCu4RqoIG",
        "outputId": "41f51c39-7f06-43a7-bd0a-a9964b2401a9"
      },
      "source": [
        "data_3.dtypes"
      ],
      "execution_count": 11,
      "outputs": [
        {
          "output_type": "execute_result",
          "data": {
            "text/plain": [
              "Classification             object\n",
              "Area(sq km)                object\n",
              "% of Geographical Area    float64\n",
              "dtype: object"
            ]
          },
          "metadata": {},
          "execution_count": 11
        }
      ]
    },
    {
      "cell_type": "markdown",
      "metadata": {
        "id": "uqREH9DWq9_K"
      },
      "source": [
        "Area is object, which should convert to integer or float"
      ]
    },
    {
      "cell_type": "code",
      "metadata": {
        "id": "1UutrqMNq4oA"
      },
      "source": [
        "data_3['Area(sq km)']=data_3['% of Geographical Area'].replace(',','').astype(float)"
      ],
      "execution_count": 12,
      "outputs": []
    },
    {
      "cell_type": "code",
      "metadata": {
        "colab": {
          "base_uri": "https://localhost:8080/"
        },
        "id": "D15w_hbqrXqA",
        "outputId": "cfe960d7-263f-4a02-dbb3-83f67515eb64"
      },
      "source": [
        "data_3['Area(sq km)'].dtype"
      ],
      "execution_count": 13,
      "outputs": [
        {
          "output_type": "execute_result",
          "data": {
            "text/plain": [
              "dtype('float64')"
            ]
          },
          "metadata": {},
          "execution_count": 13
        }
      ]
    },
    {
      "cell_type": "markdown",
      "metadata": {
        "id": "XMRINi5Prg08"
      },
      "source": [
        "Converting the Dataframe back to the csv file"
      ]
    },
    {
      "cell_type": "code",
      "metadata": {
        "id": "NXV6u1J4rdl4"
      },
      "source": [
        "data_3.to_csv('total forest cover of india-2019')"
      ],
      "execution_count": 14,
      "outputs": []
    },
    {
      "cell_type": "markdown",
      "metadata": {
        "id": "al6tEnp2r8Aw"
      },
      "source": [
        " total forest cover of india-2019 data after performing data clean operation"
      ]
    },
    {
      "cell_type": "code",
      "metadata": {
        "colab": {
          "base_uri": "https://localhost:8080/",
          "height": 204
        },
        "id": "OZ_izwkQr1Y8",
        "outputId": "7a99d566-cb73-42ba-e9e7-a400e17465cc"
      },
      "source": [
        "data_3.style.set_caption(\"**Total forest cover of india-2019**\")"
      ],
      "execution_count": 18,
      "outputs": [
        {
          "output_type": "execute_result",
          "data": {
            "text/html": [
              "<style  type=\"text/css\" >\n",
              "</style><table id=\"T_6fdab7e8_1085_11ec_abb3_0242ac1c0002\" ><caption>**Total forest cover of india-2019**</caption><thead>    <tr>        <th class=\"blank level0\" ></th>        <th class=\"col_heading level0 col0\" >Classification</th>        <th class=\"col_heading level0 col1\" >Area(sq km)</th>        <th class=\"col_heading level0 col2\" >% of Geographical Area</th>    </tr></thead><tbody>\n",
              "                <tr>\n",
              "                        <th id=\"T_6fdab7e8_1085_11ec_abb3_0242ac1c0002level0_row0\" class=\"row_heading level0 row0\" >0</th>\n",
              "                        <td id=\"T_6fdab7e8_1085_11ec_abb3_0242ac1c0002row0_col0\" class=\"data row0 col0\" >Very Dense Forest</td>\n",
              "                        <td id=\"T_6fdab7e8_1085_11ec_abb3_0242ac1c0002row0_col1\" class=\"data row0 col1\" >3.020000</td>\n",
              "                        <td id=\"T_6fdab7e8_1085_11ec_abb3_0242ac1c0002row0_col2\" class=\"data row0 col2\" >3.020000</td>\n",
              "            </tr>\n",
              "            <tr>\n",
              "                        <th id=\"T_6fdab7e8_1085_11ec_abb3_0242ac1c0002level0_row1\" class=\"row_heading level0 row1\" >1</th>\n",
              "                        <td id=\"T_6fdab7e8_1085_11ec_abb3_0242ac1c0002row1_col0\" class=\"data row1 col0\" >Moderately Dense Forest</td>\n",
              "                        <td id=\"T_6fdab7e8_1085_11ec_abb3_0242ac1c0002row1_col1\" class=\"data row1 col1\" >9.390000</td>\n",
              "                        <td id=\"T_6fdab7e8_1085_11ec_abb3_0242ac1c0002row1_col2\" class=\"data row1 col2\" >9.390000</td>\n",
              "            </tr>\n",
              "            <tr>\n",
              "                        <th id=\"T_6fdab7e8_1085_11ec_abb3_0242ac1c0002level0_row2\" class=\"row_heading level0 row2\" >2</th>\n",
              "                        <td id=\"T_6fdab7e8_1085_11ec_abb3_0242ac1c0002row2_col0\" class=\"data row2 col0\" >Open Forest</td>\n",
              "                        <td id=\"T_6fdab7e8_1085_11ec_abb3_0242ac1c0002row2_col1\" class=\"data row2 col1\" >9.260000</td>\n",
              "                        <td id=\"T_6fdab7e8_1085_11ec_abb3_0242ac1c0002row2_col2\" class=\"data row2 col2\" >9.260000</td>\n",
              "            </tr>\n",
              "            <tr>\n",
              "                        <th id=\"T_6fdab7e8_1085_11ec_abb3_0242ac1c0002level0_row3\" class=\"row_heading level0 row3\" >3</th>\n",
              "                        <td id=\"T_6fdab7e8_1085_11ec_abb3_0242ac1c0002row3_col0\" class=\"data row3 col0\" >Total Forest Cover</td>\n",
              "                        <td id=\"T_6fdab7e8_1085_11ec_abb3_0242ac1c0002row3_col1\" class=\"data row3 col1\" >21.670000</td>\n",
              "                        <td id=\"T_6fdab7e8_1085_11ec_abb3_0242ac1c0002row3_col2\" class=\"data row3 col2\" >21.670000</td>\n",
              "            </tr>\n",
              "            <tr>\n",
              "                        <th id=\"T_6fdab7e8_1085_11ec_abb3_0242ac1c0002level0_row4\" class=\"row_heading level0 row4\" >4</th>\n",
              "                        <td id=\"T_6fdab7e8_1085_11ec_abb3_0242ac1c0002row4_col0\" class=\"data row4 col0\" >Scrub</td>\n",
              "                        <td id=\"T_6fdab7e8_1085_11ec_abb3_0242ac1c0002row4_col1\" class=\"data row4 col1\" >1.410000</td>\n",
              "                        <td id=\"T_6fdab7e8_1085_11ec_abb3_0242ac1c0002row4_col2\" class=\"data row4 col2\" >1.410000</td>\n",
              "            </tr>\n",
              "            <tr>\n",
              "                        <th id=\"T_6fdab7e8_1085_11ec_abb3_0242ac1c0002level0_row5\" class=\"row_heading level0 row5\" >5</th>\n",
              "                        <td id=\"T_6fdab7e8_1085_11ec_abb3_0242ac1c0002row5_col0\" class=\"data row5 col0\" >Non-Forest</td>\n",
              "                        <td id=\"T_6fdab7e8_1085_11ec_abb3_0242ac1c0002row5_col1\" class=\"data row5 col1\" >76.920000</td>\n",
              "                        <td id=\"T_6fdab7e8_1085_11ec_abb3_0242ac1c0002row5_col2\" class=\"data row5 col2\" >76.920000</td>\n",
              "            </tr>\n",
              "            <tr>\n",
              "                        <th id=\"T_6fdab7e8_1085_11ec_abb3_0242ac1c0002level0_row6\" class=\"row_heading level0 row6\" >6</th>\n",
              "                        <td id=\"T_6fdab7e8_1085_11ec_abb3_0242ac1c0002row6_col0\" class=\"data row6 col0\" >Total Geographical Area</td>\n",
              "                        <td id=\"T_6fdab7e8_1085_11ec_abb3_0242ac1c0002row6_col1\" class=\"data row6 col1\" >100.000000</td>\n",
              "                        <td id=\"T_6fdab7e8_1085_11ec_abb3_0242ac1c0002row6_col2\" class=\"data row6 col2\" >100.000000</td>\n",
              "            </tr>\n",
              "    </tbody></table>"
            ],
            "text/plain": [
              "<pandas.io.formats.style.Styler at 0x7f8a309fac50>"
            ]
          },
          "metadata": {},
          "execution_count": 18
        }
      ]
    },
    {
      "cell_type": "code",
      "metadata": {
        "id": "J69s5iCJsOz6"
      },
      "source": [
        ""
      ],
      "execution_count": null,
      "outputs": []
    }
  ]
}